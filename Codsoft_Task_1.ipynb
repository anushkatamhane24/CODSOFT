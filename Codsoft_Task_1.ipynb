{
  "nbformat": 4,
  "nbformat_minor": 0,
  "metadata": {
    "colab": {
      "provenance": [],
      "authorship_tag": "ABX9TyNc8UHdKsb6pIqTZUwjxTOw",
      "include_colab_link": true
    },
    "kernelspec": {
      "name": "python3",
      "display_name": "Python 3"
    },
    "language_info": {
      "name": "python"
    }
  },
  "cells": [
    {
      "cell_type": "markdown",
      "metadata": {
        "id": "view-in-github",
        "colab_type": "text"
      },
      "source": [
        "<a href=\"https://colab.research.google.com/github/anushkatamhane24/CODSOFT/blob/main/Codsoft_Task_1.ipynb\" target=\"_parent\"><img src=\"https://colab.research.google.com/assets/colab-badge.svg\" alt=\"Open In Colab\"/></a>"
      ]
    },
    {
      "cell_type": "code",
      "execution_count": null,
      "metadata": {
        "colab": {
          "base_uri": "https://localhost:8080/"
        },
        "id": "rLsotg5pU_5f",
        "outputId": "062a8c3d-ad10-4d80-e900-a0d4ba58e4d0"
      },
      "outputs": [
        {
          "output_type": "stream",
          "name": "stdout",
          "text": [
            "Chatbot: Hi! I am Anushka, your friendly chatbot. How can I assist you today?\n",
            "You: hii\n",
            "Chatbot: Hello! How can I assist you today?\n",
            "You: how are you\n",
            "Chatbot: I'm sorry, I don't understand. Can you please rephrase or ask another question?\n",
            "You: what is your qualification?\n",
            "Chatbot: I don't have any formal qualification. I am a rule-based model.\n",
            "You: bye\n",
            "Chatbot: Goodbye! Have a great day!\n"
          ]
        }
      ],
      "source": [
        "def chatbot_response(user_input):\n",
        "    user_input = user_input.lower()\n",
        "\n",
        "\n",
        "    if \"hello\" in user_input or \"hi\" in user_input:\n",
        "        return \"Hello! How can I assist you today?\"\n",
        "\n",
        "    elif \"how are you?\" in user_input:\n",
        "        return \"I'm good thank you, How are you? And How can I help you?\"\n",
        "\n",
        "    elif \"what's your name?\" in user_input or \"who are you?\" in user_input:\n",
        "        return \"I am Anushka, your friendly rule-based chatbot.\"\n",
        "\n",
        "    elif \"bye\" in user_input or \"goodbye\" in user_input:\n",
        "        return \"Goodbye! Have a great day!\"\n",
        "\n",
        "    elif \"what is your qualification?\" in user_input or \"what is the highest degree you hold?\" in user_input:\n",
        "        return \"I don't have any formal qualification. I am a rule-based model.\"\n",
        "\n",
        "    else:\n",
        "        return \"I'm sorry, I don't understand. Can you please rephrase or ask another question?\"\n",
        "\n",
        "\n",
        "def main():\n",
        "    print(\"Chatbot: Hi! I am Anushka, your friendly chatbot. How can I assist you today?\")\n",
        "\n",
        "    while True:\n",
        "        user_input = input(\"You: \")\n",
        "        if user_input.lower() == 'exit':\n",
        "            print(\"Chatbot: Goodbye! Have a great day!\")\n",
        "            break\n",
        "        else:\n",
        "            response = chatbot_response(user_input)\n",
        "            print(\"Chatbot:\", response)\n",
        "\n",
        "if __name__ == \"__main__\":\n",
        "    main()"
      ]
    }
  ]
}